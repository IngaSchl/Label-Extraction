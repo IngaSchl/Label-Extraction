{
 "cells": [
  {
   "cell_type": "markdown",
   "metadata": {},
   "source": [
    "# Centroids of current streets\n",
    "This script produces a \"centroid\" per road within the current *strassennetz_gesamt* dataset originating from the *Straßen- und Wegenetz Hamburg* WFS (https://suche.transparenz.hamburg.de/dataset/strassen-und-wegenetz-hamburg-hh-sib9).\n",
    "\n",
    "The aim is to produce a reference point per street or place which can be used for an approximate initial georeferencing of the historical map. The historical map's reference points are represented by the centroids of the corresponding street name's bounding boxes.\n",
    "\n",
    "We distinguish between 3 different types of roads in order to generate the centroids:\n",
    "- roads consisting of exactly 1 linestring: the point at half-length of the linestring is assumed to represent the centroid\n",
    "- roads consisting of exactly 2 linestrings: the interpolated point at half-length over both lines is assumed to represent the centroid\n",
    "- roads consisting of more than 2 linestrings: the centroid of the linestrings' common recangular bounding box is assumed to represent the centroid."
   ]
  },
  {
   "cell_type": "markdown",
   "metadata": {},
   "source": [
    "# load libraries"
   ]
  },
  {
   "cell_type": "code",
   "execution_count": 1,
   "metadata": {},
   "outputs": [],
   "source": [
    "# Load libraries\n",
    "import pandas as pd\n",
    "import geopandas as gpd\n",
    "import ogr\n",
    "from shapely import wkt, geometry, ops"
   ]
  },
  {
   "cell_type": "markdown",
   "metadata": {},
   "source": [
    "# import data\n",
    "The *strassennetz_gesamt* originating from the WFS dataset was exported as shapefile in QGIS (EPSG: 25832)."
   ]
  },
  {
   "cell_type": "code",
   "execution_count": 2,
   "metadata": {},
   "outputs": [],
   "source": [
    "# import data\n",
    "strassennetz = gpd.read_file(\"data/input/strassennetz_gesamt.shp\")"
   ]
  },
  {
   "cell_type": "code",
   "execution_count": 3,
   "metadata": {},
   "outputs": [],
   "source": [
    "# we need only a few columns (name and geometry of streets)\n",
    "strassennetz = strassennetz[['strassenna','geometry']]\n",
    "# rename columns\n",
    "strassennetz = strassennetz.rename(columns={\"strassenna\":\"strassenname\"})"
   ]
  },
  {
   "cell_type": "code",
   "execution_count": 4,
   "metadata": {},
   "outputs": [],
   "source": [
    "# delete all roads containting \"Unbenannte\" (=unknown roads)\n",
    "# if there is this prefix within a road name\n",
    "substring = \"Unbenannte\"\n",
    "strassennetz = strassennetz[~strassennetz.strassenname.str.contains(substring)]\n",
    "#strassennetz"
   ]
  },
  {
   "cell_type": "code",
   "execution_count": 5,
   "metadata": {},
   "outputs": [
    {
     "data": {
      "text/plain": [
       "strassenname\n",
       "1. Hafenstraße       1\n",
       "2. Hafenstraße       2\n",
       "ABC-Straße           2\n",
       "Aalheitengraben      1\n",
       "Aalkrautweg          1\n",
       "                    ..\n",
       "Überseeallee         3\n",
       "Überseeboulevard     2\n",
       "Überseeplatz         1\n",
       "Überseering         10\n",
       "Ünner Brandheid      7\n",
       "Length: 8667, dtype: int64"
      ]
     },
     "execution_count": 5,
     "metadata": {},
     "output_type": "execute_result"
    }
   ],
   "source": [
    "# count duplicates per street name to see if a road or place consists of 1, 2, or more than 2 linestrings\n",
    "duplicateroads = strassennetz.pivot_table(index = ['strassenname'], aggfunc ='size')\n",
    "duplicateroads"
   ]
  },
  {
   "cell_type": "code",
   "execution_count": 7,
   "metadata": {},
   "outputs": [
    {
     "data": {
      "text/html": [
       "<div>\n",
       "<style scoped>\n",
       "    .dataframe tbody tr th:only-of-type {\n",
       "        vertical-align: middle;\n",
       "    }\n",
       "\n",
       "    .dataframe tbody tr th {\n",
       "        vertical-align: top;\n",
       "    }\n",
       "\n",
       "    .dataframe thead th {\n",
       "        text-align: right;\n",
       "    }\n",
       "</style>\n",
       "<table border=\"1\" class=\"dataframe\">\n",
       "  <thead>\n",
       "    <tr style=\"text-align: right;\">\n",
       "      <th></th>\n",
       "      <th>strassenname</th>\n",
       "      <th>no_of_linestrings</th>\n",
       "    </tr>\n",
       "  </thead>\n",
       "  <tbody>\n",
       "    <tr>\n",
       "      <th>0</th>\n",
       "      <td>1. Hafenstraße</td>\n",
       "      <td>1</td>\n",
       "    </tr>\n",
       "    <tr>\n",
       "      <th>1</th>\n",
       "      <td>2. Hafenstraße</td>\n",
       "      <td>2</td>\n",
       "    </tr>\n",
       "    <tr>\n",
       "      <th>2</th>\n",
       "      <td>ABC-Straße</td>\n",
       "      <td>2</td>\n",
       "    </tr>\n",
       "    <tr>\n",
       "      <th>3</th>\n",
       "      <td>Aalheitengraben</td>\n",
       "      <td>1</td>\n",
       "    </tr>\n",
       "    <tr>\n",
       "      <th>4</th>\n",
       "      <td>Aalkrautweg</td>\n",
       "      <td>1</td>\n",
       "    </tr>\n",
       "    <tr>\n",
       "      <th>...</th>\n",
       "      <td>...</td>\n",
       "      <td>...</td>\n",
       "    </tr>\n",
       "    <tr>\n",
       "      <th>8662</th>\n",
       "      <td>Überseeallee</td>\n",
       "      <td>3</td>\n",
       "    </tr>\n",
       "    <tr>\n",
       "      <th>8663</th>\n",
       "      <td>Überseeboulevard</td>\n",
       "      <td>2</td>\n",
       "    </tr>\n",
       "    <tr>\n",
       "      <th>8664</th>\n",
       "      <td>Überseeplatz</td>\n",
       "      <td>1</td>\n",
       "    </tr>\n",
       "    <tr>\n",
       "      <th>8665</th>\n",
       "      <td>Überseering</td>\n",
       "      <td>10</td>\n",
       "    </tr>\n",
       "    <tr>\n",
       "      <th>8666</th>\n",
       "      <td>Ünner Brandheid</td>\n",
       "      <td>7</td>\n",
       "    </tr>\n",
       "  </tbody>\n",
       "</table>\n",
       "<p>8667 rows × 2 columns</p>\n",
       "</div>"
      ],
      "text/plain": [
       "          strassenname  no_of_linestrings\n",
       "0       1. Hafenstraße                  1\n",
       "1       2. Hafenstraße                  2\n",
       "2           ABC-Straße                  2\n",
       "3      Aalheitengraben                  1\n",
       "4          Aalkrautweg                  1\n",
       "...                ...                ...\n",
       "8662      Überseeallee                  3\n",
       "8663  Überseeboulevard                  2\n",
       "8664      Überseeplatz                  1\n",
       "8665       Überseering                 10\n",
       "8666   Ünner Brandheid                  7\n",
       "\n",
       "[8667 rows x 2 columns]"
      ]
     },
     "execution_count": 7,
     "metadata": {},
     "output_type": "execute_result"
    }
   ],
   "source": [
    "# bring those numbers to a new DataFrame\n",
    "duplicateroads_df = duplicateroads.to_frame()\n",
    "duplicateroads_df.reset_index(level=0, inplace=True) # create index column\n",
    "duplicateroads_df.rename(columns={0: \"no_of_linestrings\"},inplace=True) # rename column\n",
    "duplicateroads_df"
   ]
  },
  {
   "cell_type": "markdown",
   "metadata": {},
   "source": [
    "## a few tests"
   ]
  },
  {
   "cell_type": "code",
   "execution_count": 9,
   "metadata": {},
   "outputs": [],
   "source": [
    "# # T E S T\n",
    "# hermannsburger = strassennetz.reset_index()\n",
    "# hermannsburger = strassennetz[41070:41072]\n",
    "# #hermannsburger['length'] = pd.Series(dtype='double')\n",
    "# hermannsburger[\"length\"] = \"\"\n",
    "# hermannsburger"
   ]
  },
  {
   "cell_type": "code",
   "execution_count": 10,
   "metadata": {},
   "outputs": [],
   "source": [
    "# # T E S T\n",
    "# hermannsburger['length'] = hermannsburger['geometry'].length\n",
    "# hermannsburger"
   ]
  },
  {
   "cell_type": "markdown",
   "metadata": {},
   "source": [
    "## add columns"
   ]
  },
  {
   "cell_type": "code",
   "execution_count": 11,
   "metadata": {},
   "outputs": [
    {
     "data": {
      "text/html": [
       "<div>\n",
       "<style scoped>\n",
       "    .dataframe tbody tr th:only-of-type {\n",
       "        vertical-align: middle;\n",
       "    }\n",
       "\n",
       "    .dataframe tbody tr th {\n",
       "        vertical-align: top;\n",
       "    }\n",
       "\n",
       "    .dataframe thead th {\n",
       "        text-align: right;\n",
       "    }\n",
       "</style>\n",
       "<table border=\"1\" class=\"dataframe\">\n",
       "  <thead>\n",
       "    <tr style=\"text-align: right;\">\n",
       "      <th></th>\n",
       "      <th>strassenname</th>\n",
       "      <th>geometry</th>\n",
       "      <th>length</th>\n",
       "    </tr>\n",
       "  </thead>\n",
       "  <tbody>\n",
       "    <tr>\n",
       "      <th>0</th>\n",
       "      <td>Wulffsgang</td>\n",
       "      <td>LINESTRING (566877.870 5945760.400, 566868.100...</td>\n",
       "      <td>40.214836</td>\n",
       "    </tr>\n",
       "    <tr>\n",
       "      <th>1</th>\n",
       "      <td>Parkplatz Veringstraße</td>\n",
       "      <td>LINESTRING (565486.050 5930387.360, 565485.850...</td>\n",
       "      <td>28.750431</td>\n",
       "    </tr>\n",
       "    <tr>\n",
       "      <th>2</th>\n",
       "      <td>Wittenmoor</td>\n",
       "      <td>LINESTRING (560878.120 5938830.450, 560868.150...</td>\n",
       "      <td>75.158709</td>\n",
       "    </tr>\n",
       "    <tr>\n",
       "      <th>3</th>\n",
       "      <td>Parkstieg</td>\n",
       "      <td>LINESTRING (576179.020 5939706.930, 576203.850...</td>\n",
       "      <td>134.814845</td>\n",
       "    </tr>\n",
       "    <tr>\n",
       "      <th>4</th>\n",
       "      <td>Heidelerchenweg</td>\n",
       "      <td>LINESTRING (570089.760 5946900.280, 570086.850...</td>\n",
       "      <td>196.038243</td>\n",
       "    </tr>\n",
       "    <tr>\n",
       "      <th>...</th>\n",
       "      <td>...</td>\n",
       "      <td>...</td>\n",
       "      <td>...</td>\n",
       "    </tr>\n",
       "    <tr>\n",
       "      <th>42392</th>\n",
       "      <td>Reinbeker Redder</td>\n",
       "      <td>LINESTRING (579841.420 5929954.302, 579847.840...</td>\n",
       "      <td>43.061754</td>\n",
       "    </tr>\n",
       "    <tr>\n",
       "      <th>42393</th>\n",
       "      <td>Hermannsburger Weg</td>\n",
       "      <td>LINESTRING (565679.350 5920359.340, 565689.490...</td>\n",
       "      <td>104.193422</td>\n",
       "    </tr>\n",
       "    <tr>\n",
       "      <th>42394</th>\n",
       "      <td>Hermannsburger Weg</td>\n",
       "      <td>LINESTRING (565780.800 5920338.844, 565781.650...</td>\n",
       "      <td>139.258051</td>\n",
       "    </tr>\n",
       "    <tr>\n",
       "      <th>42395</th>\n",
       "      <td>Brockesstraße</td>\n",
       "      <td>LINESTRING (566931.490 5934038.660, 566905.350...</td>\n",
       "      <td>129.746633</td>\n",
       "    </tr>\n",
       "    <tr>\n",
       "      <th>42396</th>\n",
       "      <td>Rimbertweg</td>\n",
       "      <td>LINESTRING (563032.260 5938419.620, 563003.620...</td>\n",
       "      <td>28.677700</td>\n",
       "    </tr>\n",
       "  </tbody>\n",
       "</table>\n",
       "<p>41074 rows × 3 columns</p>\n",
       "</div>"
      ],
      "text/plain": [
       "                 strassenname  \\\n",
       "0                  Wulffsgang   \n",
       "1      Parkplatz Veringstraße   \n",
       "2                  Wittenmoor   \n",
       "3                   Parkstieg   \n",
       "4             Heidelerchenweg   \n",
       "...                       ...   \n",
       "42392        Reinbeker Redder   \n",
       "42393      Hermannsburger Weg   \n",
       "42394      Hermannsburger Weg   \n",
       "42395           Brockesstraße   \n",
       "42396              Rimbertweg   \n",
       "\n",
       "                                                geometry      length  \n",
       "0      LINESTRING (566877.870 5945760.400, 566868.100...   40.214836  \n",
       "1      LINESTRING (565486.050 5930387.360, 565485.850...   28.750431  \n",
       "2      LINESTRING (560878.120 5938830.450, 560868.150...   75.158709  \n",
       "3      LINESTRING (576179.020 5939706.930, 576203.850...  134.814845  \n",
       "4      LINESTRING (570089.760 5946900.280, 570086.850...  196.038243  \n",
       "...                                                  ...         ...  \n",
       "42392  LINESTRING (579841.420 5929954.302, 579847.840...   43.061754  \n",
       "42393  LINESTRING (565679.350 5920359.340, 565689.490...  104.193422  \n",
       "42394  LINESTRING (565780.800 5920338.844, 565781.650...  139.258051  \n",
       "42395  LINESTRING (566931.490 5934038.660, 566905.350...  129.746633  \n",
       "42396  LINESTRING (563032.260 5938419.620, 563003.620...   28.677700  \n",
       "\n",
       "[41074 rows x 3 columns]"
      ]
     },
     "execution_count": 11,
     "metadata": {},
     "output_type": "execute_result"
    }
   ],
   "source": [
    "# add the length [m] of each linestring to *strassennetz*\n",
    "strassennetz['length'] = strassennetz['geometry'].length\n",
    "strassennetz"
   ]
  },
  {
   "cell_type": "markdown",
   "metadata": {},
   "source": [
    "## Streets and Places containing exactly one linestring"
   ]
  },
  {
   "cell_type": "code",
   "execution_count": null,
   "metadata": {},
   "outputs": [],
   "source": [
    "data_exactly1 = []\n",
    "\n",
    "#strassennetz['length'] = pd.Series(dtype='double')\n",
    "#strassennetz['totallength'] = pd.Series(dtype='double')\n",
    "\n",
    "for index,row in strassennetz.iterrows():\n",
    "    \n",
    "    for index1,row1 in duplicateroads_df.iterrows():\n",
    "        \n",
    "        # if a road consists of only 1 linestring ...\n",
    "        if (row1['no_of_linestrings']) == 1:\n",
    "            \n",
    "            if row['strassenname'] == row1['strassenname']:\n",
    "                \n",
    "                # ... find the centroid of the road.\n",
    "                midPoint = row['geometry'].interpolate(row['geometry'].length/2)\n",
    "                \n",
    "                data_exactly1.append(\n",
    "                    {\n",
    "                    'strassenname':row['strassenname'],\n",
    "                    'centroid':midPoint\n",
    "                    }\n",
    "                )"
   ]
  },
  {
   "cell_type": "code",
   "execution_count": 18,
   "metadata": {},
   "outputs": [],
   "source": [
    "df_exactly1 = pd.DataFrame(data_exactly1)\n",
    "exactly1 = gpd.GeoDataFrame(df_exactly1, geometry='centroid')\n",
    "# # export to shapefile\n",
    "# exactly1.to_file(\"exactly1.shp\")"
   ]
  },
  {
   "cell_type": "markdown",
   "metadata": {},
   "source": [
    "## Streets and Places containing exactly two linestrings"
   ]
  },
  {
   "cell_type": "markdown",
   "metadata": {},
   "source": [
    "Dissolve *strassennetz* by street name"
   ]
  },
  {
   "cell_type": "code",
   "execution_count": 19,
   "metadata": {},
   "outputs": [
    {
     "data": {
      "text/html": [
       "<div>\n",
       "<style scoped>\n",
       "    .dataframe tbody tr th:only-of-type {\n",
       "        vertical-align: middle;\n",
       "    }\n",
       "\n",
       "    .dataframe tbody tr th {\n",
       "        vertical-align: top;\n",
       "    }\n",
       "\n",
       "    .dataframe thead th {\n",
       "        text-align: right;\n",
       "    }\n",
       "</style>\n",
       "<table border=\"1\" class=\"dataframe\">\n",
       "  <thead>\n",
       "    <tr style=\"text-align: right;\">\n",
       "      <th></th>\n",
       "      <th>strassenname</th>\n",
       "      <th>geometry</th>\n",
       "      <th>length</th>\n",
       "    </tr>\n",
       "  </thead>\n",
       "  <tbody>\n",
       "    <tr>\n",
       "      <th>0</th>\n",
       "      <td>1. Hafenstraße</td>\n",
       "      <td>LINESTRING (564488.610 5925054.160, 564490.260...</td>\n",
       "      <td>249.025777</td>\n",
       "    </tr>\n",
       "    <tr>\n",
       "      <th>1</th>\n",
       "      <td>2. Hafenstraße</td>\n",
       "      <td>MULTILINESTRING ((564066.470 5925187.100, 5640...</td>\n",
       "      <td>687.222617</td>\n",
       "    </tr>\n",
       "    <tr>\n",
       "      <th>2</th>\n",
       "      <td>ABC-Straße</td>\n",
       "      <td>MULTILINESTRING ((565243.370 5934352.120, 5653...</td>\n",
       "      <td>245.659887</td>\n",
       "    </tr>\n",
       "    <tr>\n",
       "      <th>3</th>\n",
       "      <td>Aalheitengraben</td>\n",
       "      <td>LINESTRING (577789.200 5945238.800, 577794.960...</td>\n",
       "      <td>139.471441</td>\n",
       "    </tr>\n",
       "    <tr>\n",
       "      <th>4</th>\n",
       "      <td>Aalkrautweg</td>\n",
       "      <td>LINESTRING (572992.070 5946801.660, 572972.660...</td>\n",
       "      <td>399.924837</td>\n",
       "    </tr>\n",
       "    <tr>\n",
       "      <th>...</th>\n",
       "      <td>...</td>\n",
       "      <td>...</td>\n",
       "      <td>...</td>\n",
       "    </tr>\n",
       "    <tr>\n",
       "      <th>8662</th>\n",
       "      <td>Überseeallee</td>\n",
       "      <td>MULTILINESTRING ((566032.280 5932974.200, 5662...</td>\n",
       "      <td>472.463209</td>\n",
       "    </tr>\n",
       "    <tr>\n",
       "      <th>8663</th>\n",
       "      <td>Überseeboulevard</td>\n",
       "      <td>MULTILINESTRING ((566087.550 5933235.760, 5660...</td>\n",
       "      <td>480.143858</td>\n",
       "    </tr>\n",
       "    <tr>\n",
       "      <th>8664</th>\n",
       "      <td>Überseeplatz</td>\n",
       "      <td>LINESTRING (566181.650 5932665.010, 566345.710...</td>\n",
       "      <td>178.649343</td>\n",
       "    </tr>\n",
       "    <tr>\n",
       "      <th>8665</th>\n",
       "      <td>Überseering</td>\n",
       "      <td>MULTILINESTRING ((567835.450 5939703.770, 5678...</td>\n",
       "      <td>1785.739041</td>\n",
       "    </tr>\n",
       "    <tr>\n",
       "      <th>8666</th>\n",
       "      <td>Ünner Brandheid</td>\n",
       "      <td>MULTILINESTRING ((559133.350 5926105.640, 5591...</td>\n",
       "      <td>411.766557</td>\n",
       "    </tr>\n",
       "  </tbody>\n",
       "</table>\n",
       "<p>8667 rows × 3 columns</p>\n",
       "</div>"
      ],
      "text/plain": [
       "          strassenname                                           geometry  \\\n",
       "0       1. Hafenstraße  LINESTRING (564488.610 5925054.160, 564490.260...   \n",
       "1       2. Hafenstraße  MULTILINESTRING ((564066.470 5925187.100, 5640...   \n",
       "2           ABC-Straße  MULTILINESTRING ((565243.370 5934352.120, 5653...   \n",
       "3      Aalheitengraben  LINESTRING (577789.200 5945238.800, 577794.960...   \n",
       "4          Aalkrautweg  LINESTRING (572992.070 5946801.660, 572972.660...   \n",
       "...                ...                                                ...   \n",
       "8662      Überseeallee  MULTILINESTRING ((566032.280 5932974.200, 5662...   \n",
       "8663  Überseeboulevard  MULTILINESTRING ((566087.550 5933235.760, 5660...   \n",
       "8664      Überseeplatz  LINESTRING (566181.650 5932665.010, 566345.710...   \n",
       "8665       Überseering  MULTILINESTRING ((567835.450 5939703.770, 5678...   \n",
       "8666   Ünner Brandheid  MULTILINESTRING ((559133.350 5926105.640, 5591...   \n",
       "\n",
       "           length  \n",
       "0      249.025777  \n",
       "1      687.222617  \n",
       "2      245.659887  \n",
       "3      139.471441  \n",
       "4      399.924837  \n",
       "...           ...  \n",
       "8662   472.463209  \n",
       "8663   480.143858  \n",
       "8664   178.649343  \n",
       "8665  1785.739041  \n",
       "8666   411.766557  \n",
       "\n",
       "[8667 rows x 3 columns]"
      ]
     },
     "execution_count": 19,
     "metadata": {},
     "output_type": "execute_result"
    }
   ],
   "source": [
    "strassennetz_diss = strassennetz.dissolve(by='strassenname', aggfunc='sum')\n",
    "strassennetz_diss.reset_index(level=0, inplace=True)\n",
    "strassennetz_diss"
   ]
  },
  {
   "cell_type": "markdown",
   "metadata": {},
   "source": [
    "### a few tests"
   ]
  },
  {
   "cell_type": "code",
   "execution_count": null,
   "metadata": {},
   "outputs": [],
   "source": [
    "# dammtorstrasse = strassennetz_diss.loc[strassennetz_diss['strassenname'] == 'Dammtorstraße']\n",
    "# dammtorstrasse"
   ]
  },
  {
   "cell_type": "code",
   "execution_count": 50,
   "metadata": {},
   "outputs": [],
   "source": [
    "# # T E S T for Dammtorstraße\n",
    "# #strassennetz_diss['geometry'].loc[strassennetz_diss['strassenname'] == 'Dammtorstraße']\n",
    "# # dammtorstrasse_wkt = [g.wkt for g in dammtorstrasse['geometry'].values]\n",
    "# # dammtorstrasse_wkt\n",
    "\n",
    "# # T E S T for ALL roads\n",
    "# #strassennetz_diss_wkt = [g.wkt for g in strassennetz_diss['geometry'].values]\n",
    "# #strassennetz_diss_wkt\n",
    "\n",
    "# strassennetz_diss.to_file(\"strassennetz_diss.shp\")"
   ]
  },
  {
   "cell_type": "markdown",
   "metadata": {},
   "source": [
    "### applying the tests"
   ]
  },
  {
   "cell_type": "code",
   "execution_count": 20,
   "metadata": {},
   "outputs": [],
   "source": [
    "# if a road consists of exactly 2 linestrings ...\n",
    "\n",
    "data_exactly2 = []\n",
    "\n",
    "for index,row in strassennetz_diss.iterrows():\n",
    "    \n",
    "    for index1,row1 in duplicateroads_df.iterrows():\n",
    "        \n",
    "        if (row1['no_of_linestrings']) == 2:\n",
    "        \n",
    "            if row['strassenname'] == row1['strassenname']:\n",
    "                \n",
    "                # ... interpolate point on line.\n",
    "                interpolpoint = row['geometry'].interpolate(row['geometry'].length/2)\n",
    "                #print(row['strassenname'],ip.wkt)\n",
    "                \n",
    "                data_exactly2.append(\n",
    "                    {\n",
    "                    'strassenname':row['strassenname'],\n",
    "                    'centroid':interpolpoint\n",
    "                    }\n",
    "                )"
   ]
  },
  {
   "cell_type": "code",
   "execution_count": 21,
   "metadata": {},
   "outputs": [],
   "source": [
    "df_exactly2 = pd.DataFrame(data_exactly2)\n",
    "exactly2 = gpd.GeoDataFrame(df_exactly2, geometry='centroid')\n",
    "# # export to shapefile\n",
    "# exactly2.to_file(\"exactly2.shp\")"
   ]
  },
  {
   "cell_type": "markdown",
   "metadata": {},
   "source": [
    "## Streets and Places containing three and more linestrings"
   ]
  },
  {
   "cell_type": "code",
   "execution_count": 22,
   "metadata": {},
   "outputs": [],
   "source": [
    "# if a road consists of more than 2 linestrings ...\n",
    "\n",
    "data_morethan2 = []\n",
    "\n",
    "for index,row in strassennetz_diss.iterrows():\n",
    "    \n",
    "    for index1,row1 in duplicateroads_df.iterrows():\n",
    "        \n",
    "        if (row1['no_of_linestrings']) > 2:\n",
    "        \n",
    "            if row['strassenname'] == row1['strassenname']:\n",
    "\n",
    "                # ... extract layer extent ... \n",
    "                env = row['geometry'].envelope\n",
    "                #print(row['strassenname'],env)\n",
    "\n",
    "                \n",
    "                # ... and get centroid of layer extent.\n",
    "                centroids = env.centroid\n",
    "                \n",
    "                data_morethan2.append(\n",
    "                    {\n",
    "                    'strassenname':row['strassenname'],\n",
    "                    'centroid':centroids\n",
    "                    }\n",
    "                )"
   ]
  },
  {
   "cell_type": "code",
   "execution_count": 23,
   "metadata": {},
   "outputs": [],
   "source": [
    "df_morethan2 = pd.DataFrame(data_morethan2)\n",
    "morethan2 = gpd.GeoDataFrame(df_morethan2, geometry='centroid')\n",
    "# # export to shapefile\n",
    "# morethan2.to_file(\"morethan2.shp\")"
   ]
  },
  {
   "cell_type": "markdown",
   "metadata": {},
   "source": [
    "## bring the 3 created GeoDataFrames together into a common one"
   ]
  },
  {
   "cell_type": "code",
   "execution_count": 30,
   "metadata": {},
   "outputs": [
    {
     "data": {
      "text/html": [
       "<div>\n",
       "<style scoped>\n",
       "    .dataframe tbody tr th:only-of-type {\n",
       "        vertical-align: middle;\n",
       "    }\n",
       "\n",
       "    .dataframe tbody tr th {\n",
       "        vertical-align: top;\n",
       "    }\n",
       "\n",
       "    .dataframe thead th {\n",
       "        text-align: right;\n",
       "    }\n",
       "</style>\n",
       "<table border=\"1\" class=\"dataframe\">\n",
       "  <thead>\n",
       "    <tr style=\"text-align: right;\">\n",
       "      <th></th>\n",
       "      <th>strassenname</th>\n",
       "      <th>centroid</th>\n",
       "      <th>no_linestrings</th>\n",
       "    </tr>\n",
       "  </thead>\n",
       "  <tbody>\n",
       "    <tr>\n",
       "      <th>0</th>\n",
       "      <td>Lampenland</td>\n",
       "      <td>POINT (581873.660 5925881.740)</td>\n",
       "      <td>1</td>\n",
       "    </tr>\n",
       "    <tr>\n",
       "      <th>1</th>\n",
       "      <td>Achterdwars</td>\n",
       "      <td>POINT (579629.014 5927099.873)</td>\n",
       "      <td>1</td>\n",
       "    </tr>\n",
       "    <tr>\n",
       "      <th>2</th>\n",
       "      <td>Platz am 10. Längengrad</td>\n",
       "      <td>POINT (566281.255 5932848.595)</td>\n",
       "      <td>1</td>\n",
       "    </tr>\n",
       "    <tr>\n",
       "      <th>3</th>\n",
       "      <td>Annaberg</td>\n",
       "      <td>POINT (573372.230 5933475.120)</td>\n",
       "      <td>1</td>\n",
       "    </tr>\n",
       "    <tr>\n",
       "      <th>4</th>\n",
       "      <td>Hein-Möller-Weg</td>\n",
       "      <td>POINT (580044.129 5927723.987)</td>\n",
       "      <td>1</td>\n",
       "    </tr>\n",
       "    <tr>\n",
       "      <th>...</th>\n",
       "      <td>...</td>\n",
       "      <td>...</td>\n",
       "      <td>...</td>\n",
       "    </tr>\n",
       "    <tr>\n",
       "      <th>4981</th>\n",
       "      <td>Övelgönner Straße</td>\n",
       "      <td>POINT (562635.355 5936114.030)</td>\n",
       "      <td>more than 2</td>\n",
       "    </tr>\n",
       "    <tr>\n",
       "      <th>4982</th>\n",
       "      <td>Övern Barg</td>\n",
       "      <td>POINT (569846.380 5943452.715)</td>\n",
       "      <td>more than 2</td>\n",
       "    </tr>\n",
       "    <tr>\n",
       "      <th>4983</th>\n",
       "      <td>Überseeallee</td>\n",
       "      <td>POINT (566333.445 5932931.950)</td>\n",
       "      <td>more than 2</td>\n",
       "    </tr>\n",
       "    <tr>\n",
       "      <th>4984</th>\n",
       "      <td>Überseering</td>\n",
       "      <td>POINT (567577.120 5939913.225)</td>\n",
       "      <td>more than 2</td>\n",
       "    </tr>\n",
       "    <tr>\n",
       "      <th>4985</th>\n",
       "      <td>Ünner Brandheid</td>\n",
       "      <td>POINT (559156.380 5925968.860)</td>\n",
       "      <td>more than 2</td>\n",
       "    </tr>\n",
       "  </tbody>\n",
       "</table>\n",
       "<p>8667 rows × 3 columns</p>\n",
       "</div>"
      ],
      "text/plain": [
       "                 strassenname                        centroid no_linestrings\n",
       "0                  Lampenland  POINT (581873.660 5925881.740)              1\n",
       "1                 Achterdwars  POINT (579629.014 5927099.873)              1\n",
       "2     Platz am 10. Längengrad  POINT (566281.255 5932848.595)              1\n",
       "3                    Annaberg  POINT (573372.230 5933475.120)              1\n",
       "4             Hein-Möller-Weg  POINT (580044.129 5927723.987)              1\n",
       "...                       ...                             ...            ...\n",
       "4981        Övelgönner Straße  POINT (562635.355 5936114.030)    more than 2\n",
       "4982               Övern Barg  POINT (569846.380 5943452.715)    more than 2\n",
       "4983             Überseeallee  POINT (566333.445 5932931.950)    more than 2\n",
       "4984              Überseering  POINT (567577.120 5939913.225)    more than 2\n",
       "4985          Ünner Brandheid  POINT (559156.380 5925968.860)    more than 2\n",
       "\n",
       "[8667 rows x 3 columns]"
      ]
     },
     "execution_count": 30,
     "metadata": {},
     "output_type": "execute_result"
    }
   ],
   "source": [
    "morethan2['no_linestrings']='more than 2'\n",
    "exactly2['no_linestrings']='2'\n",
    "exactly1['no_linestrings']='1'\n",
    "\n",
    "# merge all 3 geodataframes\n",
    "roads_centroids = pd.concat([exactly1, exactly2, morethan2])\n",
    "# print GDF\n",
    "roads_centroids"
   ]
  },
  {
   "cell_type": "code",
   "execution_count": 35,
   "metadata": {},
   "outputs": [],
   "source": [
    "# export to shapefile (EPSG: 25832)\n",
    "roads_centroids_utm = roads_centroids.copy()\n",
    "roads_centroids_utm.crs = {'init' :'epsg:25832'}\n",
    "roads_centroids_utm.to_file(\"data/output/roads_centroids_utm.shp\")"
   ]
  }
 ],
 "metadata": {
  "kernelspec": {
   "display_name": "Python 3",
   "language": "python",
   "name": "python3"
  },
  "language_info": {
   "codemirror_mode": {
    "name": "ipython",
    "version": 3
   },
   "file_extension": ".py",
   "mimetype": "text/x-python",
   "name": "python",
   "nbconvert_exporter": "python",
   "pygments_lexer": "ipython3",
   "version": "3.7.7"
  }
 },
 "nbformat": 4,
 "nbformat_minor": 4
}
